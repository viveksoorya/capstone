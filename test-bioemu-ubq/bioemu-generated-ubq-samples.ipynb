{
 "cells": [
  {
   "cell_type": "code",
   "execution_count": null,
   "id": "72dfba73",
   "metadata": {},
   "outputs": [],
   "source": [
    "import visualize # local file\n",
    "\n",
    "import MDAnalysis as mda \n",
    "\n",
    "u = mda.Universe(\"topology.pdb\", \"samples.xtc\")\n",
    "view = visualize.visualize_mda_universe(u)\n",
    "view.show()\n"
   ]
  }
 ],
 "metadata": {
  "kernelspec": {
   "display_name": ".venv",
   "language": "python",
   "name": "python3"
  },
  "language_info": {
   "codemirror_mode": {
    "name": "ipython",
    "version": 3
   },
   "file_extension": ".py",
   "mimetype": "text/x-python",
   "name": "python",
   "nbconvert_exporter": "python",
   "pygments_lexer": "ipython3",
   "version": "3.11.2"
  }
 },
 "nbformat": 4,
 "nbformat_minor": 5
}
