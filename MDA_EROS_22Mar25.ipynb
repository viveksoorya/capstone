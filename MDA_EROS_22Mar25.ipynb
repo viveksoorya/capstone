{
 "cells": [
  {
   "cell_type": "code",
   "execution_count": 1,
   "id": "515d2369-199d-4568-8bdc-d512b353cd7d",
   "metadata": {},
   "outputs": [],
   "source": [
    "import MDAnalysis as mda"
   ]
  },
  {
   "cell_type": "code",
   "execution_count": 2,
   "id": "8de78458-4f60-4dd2-a229-60d852572f14",
   "metadata": {},
   "outputs": [
    {
     "data": {
      "application/vnd.jupyter.widget-view+json": {
       "model_id": "1a02fc1e704a47798fac51c079bbeb0c",
       "version_major": 2,
       "version_minor": 0
      },
      "text/plain": []
     },
     "metadata": {},
     "output_type": "display_data"
    }
   ],
   "source": [
    "import nglview as nv"
   ]
  },
  {
   "cell_type": "code",
   "execution_count": 3,
   "id": "dd95f708-d9ff-4ac1-bbcf-de200704929f",
   "metadata": {},
   "outputs": [
    {
     "name": "stdout",
     "output_type": "stream",
     "text": [
      "/bin/bash: line 1: venv/bin/pip3: No such file or directory\n"
     ]
    }
   ],
   "source": [
    "!venv/bin/pip3 install py3Dmol"
   ]
  },
  {
   "cell_type": "code",
   "execution_count": 4,
   "id": "842f5947-07c7-4b82-821b-30736ff2fb8f",
   "metadata": {
    "jupyter": {
     "source_hidden": true
    }
   },
   "outputs": [],
   "source": [
    "from pathlib import Path\n",
    "\n",
    "import pandas as pd\n",
    "import numpy as np\n",
    "import matplotlib.pyplot as plt\n",
    "import nglview as nv\n",
    "\n",
    "import MDAnalysis as mda\n",
    "from MDAnalysis.analysis import rms, diffusionmap, align\n",
    "from MDAnalysis.analysis.distances import dist\n",
    "from MDAnalysis.analysis.hydrogenbonds.hbond_analysis import HydrogenBondAnalysis as HBA"
   ]
  },
  {
   "cell_type": "code",
   "execution_count": 5,
   "id": "a03926e1-32ed-4134-b6b9-4545a841fadf",
   "metadata": {},
   "outputs": [
    {
     "name": "stdout",
     "output_type": "stream",
     "text": [
      "/home/uni/capstone/EROS_Ub/\n"
     ]
    }
   ],
   "source": [
    "import os\n",
    "DATA = os.path.join('/home', 'uni', 'capstone', 'EROS_Ub/')\n",
    "print(DATA)"
   ]
  },
  {
   "cell_type": "code",
   "execution_count": 6,
   "id": "d722efdd-6187-4f2f-8446-78e4e6fdb2d3",
   "metadata": {},
   "outputs": [],
   "source": [
    "mda_universe = mda.Universe(os.path.join(DATA, \"2k39.pdb\"))"
   ]
  },
  {
   "cell_type": "code",
   "execution_count": 7,
   "id": "b6aa1941-d960-4d8c-a938-d8e24d7fa4d6",
   "metadata": {},
   "outputs": [],
   "source": [
    "import py3Dmol"
   ]
  },
  {
   "cell_type": "code",
   "execution_count": 8,
   "id": "01506a83-fc3a-44a8-948b-50b763b7e377",
   "metadata": {},
   "outputs": [],
   "source": [
    "from MDAnalysis.analysis import align"
   ]
  },
  {
   "cell_type": "code",
   "execution_count": null,
   "id": "e6faea40-38c5-4c7d-a313-a70e62010fd0",
   "metadata": {},
   "outputs": [],
   "source": [
    "def visualize_mda_universe(u, \\\n",
    "    sel_string='not ((resname WAT) or (resname HOH))', \n",
    "    style={\"cartoon\": {'color': 'spectrum'}}):\n",
    "  \"\"\"\n",
    "  Inputs: \n",
    "  u : mdanalysis universe\n",
    "  sel_string : mdanalysis selection string for visible atoms\n",
    "  style : py3Dmol style\n",
    "  \"\"\"\n",
    "  # The number of frames in the simulation\n",
    "  number_frames_analysis = len(u.trajectory)\n",
    "  if number_frames_analysis > 10:\n",
    "    stride_animation = number_frames_analysis/1 #100 KC\n",
    "  else:\n",
    "    stride_animation = 1\n",
    "\n",
    "  # Deleting previously stored frames as PDBs and removing warnings\n",
    "  import warnings\n",
    "  warnings.filterwarnings('ignore')\n",
    "  !rm [0-9]?.pdb 2> /dev/null\n",
    "  \n",
    "    # Helper classes to read and get PDB fields\n",
    "  class Atom(dict):\n",
    "    def __init__(self, line):\n",
    "      self[\"type\"] = line[0:6].strip()\n",
    "      self[\"idx\"] = line[6:11].strip()\n",
    "      self[\"name\"] = line[12:16].strip()\n",
    "      self[\"resname\"] = line[17:20].strip()\n",
    "      #self[\"resid\"] = int(int(line[22:26]))\n",
    "      self[\"resid\"] = int(line[22:26])\n",
    "      #print(type(self[\"resid\"]))\n",
    "      #print(self[\"resid\"])  \n",
    "      self[\"x\"] = float(line[30:38])\n",
    "      self[\"y\"] = float(line[38:46])\n",
    "      #self[\"z\"] = float(line[46:54])\n",
    "      self[\"z\"] = float(line[46:54])\n",
    "      self[\"sym\"] = line[76:78].strip()\n",
    "\n",
    "    def __str__(self):\n",
    "      line = list(\" \" * 80)\n",
    "      line[0:6] = self[\"type\"].ljust(6)\n",
    "      line[6:11] = self[\"idx\"].ljust(5)\n",
    "      line[12:16] = self[\"name\"].ljust(4)\n",
    "      line[17:20] = self[\"resname\"].ljust(3)\n",
    "      line[22:26] = str(self[\"resid\"]).ljust(4)\n",
    "      line[30:38] = str(self[\"x\"]).rjust(8)\n",
    "      line[38:46] = str(self[\"y\"]).rjust(8)\n",
    "      line[46:54] = str(self[\"z\"]).rjust(8)\n",
    "      line[76:78] = self[\"sym\"].rjust(2)\n",
    "      return \"\".join(line) + \"\\n\"\n",
    "          \n",
    "  class Molecule(list):\n",
    "    def __init__(self, file):\n",
    "      for line in file:\n",
    "        if \"ATOM  \" in line or \"HETATM\" in line:\n",
    "          self.append(Atom(line))\n",
    "              \n",
    "      def __str__(self):\n",
    "        outstr = \"\"\n",
    "        for at in self:\n",
    "          outstr += str(at)\n",
    "        return outstr\n",
    "\n",
    "  # Write out frames for animation\n",
    "  protein = u.select_atoms(sel_string) \n",
    "  i = 0\n",
    "  for ts in u.trajectory[0:len(u.trajectory):int(stride_animation)]: \n",
    "      if i > -1:\n",
    "          with mda.Writer('' + str(i) + '.pdb', protein.n_atoms) as W:\n",
    "              W.write(protein)\n",
    "      i = i + 1\n",
    "  # Load frames as molecules (py3Dmol let us visualize a single \"molecule\" per frame)\n",
    "  molecules = []\n",
    "  for i in range(int(len(u.trajectory)/int(stride_animation))):\n",
    "      with open('' + str(i) + '.pdb') as ifile:\n",
    "          molecules.append(Molecule(ifile))\n",
    "\n",
    "  models = \"\"\n",
    "  for i in range(len(molecules)):\n",
    "    models += \"MODEL \" + str(i) + \"\\n\"\n",
    "    for j,mol in enumerate(molecules[i]):\n",
    "      models += str(mol)\n",
    "    models += \"ENDMDL\\n\"\n",
    "\n",
    "  # Animation\n",
    "  view = py3Dmol.view(width=800, height=600)\n",
    "  view.addModelsAsFrames(models)\n",
    "  for i, at in enumerate(molecules[0]):\n",
    "      view.setStyle({'model': -1, 'serial': i+1}, at.get(\"pymol\", style))\n",
    "\n",
    "  view.zoomTo()\n",
    "  view.animate({'loop': \"forward\", 'reps': 0})\n",
    "  return view"
   ]
  },
  {
   "cell_type": "code",
   "execution_count": 10,
   "id": "92306ea8-b60b-4224-bd8e-05066ecde428",
   "metadata": {},
   "outputs": [
    {
     "ename": "ValueError",
     "evalue": "invalid literal for int() with base 10: '02 A'",
     "output_type": "error",
     "traceback": [
      "\u001b[31m---------------------------------------------------------------------------\u001b[39m",
      "\u001b[31mValueError\u001b[39m                                Traceback (most recent call last)",
      "\u001b[36mCell\u001b[39m\u001b[36m \u001b[39m\u001b[32mIn[10]\u001b[39m\u001b[32m, line 1\u001b[39m\n\u001b[32m----> \u001b[39m\u001b[32m1\u001b[39m view = \u001b[43mvisualize_mda_universe\u001b[49m\u001b[43m(\u001b[49m\u001b[43mmda_universe\u001b[49m\u001b[43m)\u001b[49m\n\u001b[32m      2\u001b[39m view.show()\n",
      "\u001b[36mCell\u001b[39m\u001b[36m \u001b[39m\u001b[32mIn[9]\u001b[39m\u001b[32m, line 76\u001b[39m, in \u001b[36mvisualize_mda_universe\u001b[39m\u001b[34m(u, sel_string, style)\u001b[39m\n\u001b[32m     74\u001b[39m \u001b[38;5;28;01mfor\u001b[39;00m i \u001b[38;5;129;01min\u001b[39;00m \u001b[38;5;28mrange\u001b[39m(\u001b[38;5;28mint\u001b[39m(\u001b[38;5;28mlen\u001b[39m(u.trajectory)/\u001b[38;5;28mint\u001b[39m(stride_animation))):\n\u001b[32m     75\u001b[39m     \u001b[38;5;28;01mwith\u001b[39;00m \u001b[38;5;28mopen\u001b[39m(\u001b[33m'\u001b[39m\u001b[33m'\u001b[39m + \u001b[38;5;28mstr\u001b[39m(i) + \u001b[33m'\u001b[39m\u001b[33m.pdb\u001b[39m\u001b[33m'\u001b[39m) \u001b[38;5;28;01mas\u001b[39;00m ifile:\n\u001b[32m---> \u001b[39m\u001b[32m76\u001b[39m         molecules.append(\u001b[43mMolecule\u001b[49m\u001b[43m(\u001b[49m\u001b[43mifile\u001b[49m\u001b[43m)\u001b[49m)\n\u001b[32m     78\u001b[39m models = \u001b[33m\"\u001b[39m\u001b[33m\"\u001b[39m\n\u001b[32m     79\u001b[39m \u001b[38;5;28;01mfor\u001b[39;00m i \u001b[38;5;129;01min\u001b[39;00m \u001b[38;5;28mrange\u001b[39m(\u001b[38;5;28mlen\u001b[39m(molecules)):\n",
      "\u001b[36mCell\u001b[39m\u001b[36m \u001b[39m\u001b[32mIn[9]\u001b[39m\u001b[32m, line 56\u001b[39m, in \u001b[36mvisualize_mda_universe.<locals>.Molecule.__init__\u001b[39m\u001b[34m(self, file)\u001b[39m\n\u001b[32m     54\u001b[39m \u001b[38;5;28;01mfor\u001b[39;00m line \u001b[38;5;129;01min\u001b[39;00m file:\n\u001b[32m     55\u001b[39m   \u001b[38;5;28;01mif\u001b[39;00m \u001b[33m\"\u001b[39m\u001b[33mATOM \u001b[39m\u001b[33m\"\u001b[39m \u001b[38;5;129;01min\u001b[39;00m line \u001b[38;5;129;01mor\u001b[39;00m \u001b[33m\"\u001b[39m\u001b[33mHETATM\u001b[39m\u001b[33m\"\u001b[39m \u001b[38;5;129;01min\u001b[39;00m line:\n\u001b[32m---> \u001b[39m\u001b[32m56\u001b[39m     \u001b[38;5;28mself\u001b[39m.append(\u001b[43mAtom\u001b[49m\u001b[43m(\u001b[49m\u001b[43mline\u001b[49m\u001b[43m)\u001b[49m)\n\u001b[32m     58\u001b[39m \u001b[38;5;28;01mdef\u001b[39;00m\u001b[38;5;250m \u001b[39m\u001b[34m__str__\u001b[39m(\u001b[38;5;28mself\u001b[39m):\n\u001b[32m     59\u001b[39m   outstr = \u001b[33m\"\u001b[39m\u001b[33m\"\u001b[39m\n",
      "\u001b[36mCell\u001b[39m\u001b[36m \u001b[39m\u001b[32mIn[9]\u001b[39m\u001b[32m, line 30\u001b[39m, in \u001b[36mvisualize_mda_universe.<locals>.Atom.__init__\u001b[39m\u001b[34m(self, line)\u001b[39m\n\u001b[32m     28\u001b[39m \u001b[38;5;28mself\u001b[39m[\u001b[33m\"\u001b[39m\u001b[33mresname\u001b[39m\u001b[33m\"\u001b[39m] = line[\u001b[32m17\u001b[39m:\u001b[32m20\u001b[39m].strip()\n\u001b[32m     29\u001b[39m \u001b[38;5;66;03m#self[\"resid\"] = int(int(line[22:26]))\u001b[39;00m\n\u001b[32m---> \u001b[39m\u001b[32m30\u001b[39m \u001b[38;5;28mself\u001b[39m[\u001b[33m\"\u001b[39m\u001b[33mresid\u001b[39m\u001b[33m\"\u001b[39m] = \u001b[38;5;28;43mint\u001b[39;49m\u001b[43m(\u001b[49m\u001b[43mline\u001b[49m\u001b[43m[\u001b[49m\u001b[32;43m22\u001b[39;49m\u001b[43m:\u001b[49m\u001b[32;43m26\u001b[39;49m\u001b[43m]\u001b[49m\u001b[43m)\u001b[49m\n\u001b[32m     31\u001b[39m \u001b[38;5;66;03m#print(type(self[\"resid\"]))\u001b[39;00m\n\u001b[32m     32\u001b[39m \u001b[38;5;66;03m#print(self[\"resid\"])  \u001b[39;00m\n\u001b[32m     33\u001b[39m \u001b[38;5;28mself\u001b[39m[\u001b[33m\"\u001b[39m\u001b[33mx\u001b[39m\u001b[33m\"\u001b[39m] = \u001b[38;5;28mfloat\u001b[39m(line[\u001b[32m30\u001b[39m:\u001b[32m38\u001b[39m])\n",
      "\u001b[31mValueError\u001b[39m: invalid literal for int() with base 10: '02 A'"
     ]
    }
   ],
   "source": [
    "view = visualize_mda_universe(mda_universe)\n",
    "view.show()"
   ]
  },
  {
   "cell_type": "code",
   "execution_count": null,
   "id": "7138142d-fe62-4132-b6c2-c65037d00748",
   "metadata": {},
   "outputs": [],
   "source": [
    "# Set trajectory pointer to first frame as reference\n",
    "mda_universe.trajectory[0]\n",
    "\n",
    "# in_memory=True is needed to actually modify the loaded trajectory\n",
    "# if the trajectory is too big for memory, one can write out the aligned trajectory and reload it into a new universe\n",
    "alignment = align.AlignTraj(\n",
    "    mobile=mda_universe, reference=mda_universe, select=\"protein\", in_memory=True\n",
    ")\n",
    "alignment.run()"
   ]
  },
  {
   "cell_type": "code",
   "execution_count": null,
   "id": "d350fe28-02bb-4751-bac9-aeb08ce2a03c",
   "metadata": {
    "scrolled": true
   },
   "outputs": [],
   "source": [
    "view = visualize_mda_universe(mda_universe)\n",
    "view.show()"
   ]
  },
  {
   "cell_type": "code",
   "execution_count": null,
   "id": "b0a3aa9b-7517-4d31-8abd-ce9c603d60b9",
   "metadata": {
    "jupyter": {
     "source_hidden": true
    }
   },
   "outputs": [],
   "source": [
    "def rmsd_for_atomgroups(universe, selection1, selection2=None):\n",
    "    \"\"\"Calulate the RMSD for selected atom groups.\n",
    "\n",
    "    Parameters\n",
    "    ----------\n",
    "    universe: MDAnalysis.core.universe.Universe\n",
    "        MDAnalysis universe.\n",
    "    selection1: str\n",
    "        Selection string for main atom group, also used during alignment.\n",
    "    selection2: list of str, optional\n",
    "        Selection strings for additional atom groups.\n",
    "\n",
    "    Returns\n",
    "    -------\n",
    "    rmsd_df: pandas.core.frame.DataFrame\n",
    "        DataFrame containing RMSD of the selected atom groups over time.\n",
    "    \"\"\"\n",
    "\n",
    "    universe.trajectory[0]\n",
    "    ref = universe\n",
    "    rmsd_analysis = rms.RMSD(universe, ref, select=selection1, groupselections=selection2)\n",
    "    rmsd_analysis.run()\n",
    "    columns = [selection1, *selection2] if selection2 else [selection1]\n",
    "    rmsd_df = pd.DataFrame(np.round(rmsd_analysis.rmsd[:, 2:], 2), columns=columns)\n",
    "    rmsd_df.index.name = \"frame\"\n",
    "    return rmsd_df"
   ]
  },
  {
   "cell_type": "code",
   "execution_count": null,
   "id": "431e7a39-69c3-4a49-9b05-c0850aaaf970",
   "metadata": {},
   "outputs": [],
   "source": [
    "rmsd = rmsd_for_atomgroups(mda_universe, \"backbone\", [\"protein\"])\n",
    "rmsd.head()"
   ]
  },
  {
   "cell_type": "code",
   "execution_count": null,
   "id": "283127f0-00d1-4d55-8f1e-c2e97d06f89b",
   "metadata": {},
   "outputs": [],
   "source": [
    "rmsd.plot(title=\"RMSD of protein\")\n",
    "plt.ylabel(\"RMSD (Å)\");"
   ]
  },
  {
   "cell_type": "code",
   "execution_count": null,
   "id": "d7200208-e77b-4f59-9097-f51c5e81c0f1",
   "metadata": {},
   "outputs": [],
   "source": [
    "def RMSD_dist_frames(universe, selection):\n",
    "    \"\"\"Calculate the RMSD between all frames in a matrix.\n",
    "\n",
    "    Parameters\n",
    "    ----------\n",
    "    universe: MDAnalysis.core.universe.Universe\n",
    "        MDAnalysis universe.\n",
    "    selection: str\n",
    "        Selection string for the atomgroup to be investigated, also used during alignment.\n",
    "\n",
    "    Returns\n",
    "    -------\n",
    "    array: np.ndarray\n",
    "        Numpy array of RMSD values.\n",
    "    \"\"\"\n",
    "    pairwise_rmsd = diffusionmap.DistanceMatrix(universe, select=selection)\n",
    "    pairwise_rmsd.run()\n",
    "    return pairwise_rmsd.dist_matrix"
   ]
  },
  {
   "cell_type": "code",
   "execution_count": null,
   "id": "7ca40e58-4670-4de5-bb8d-e39886300203",
   "metadata": {},
   "outputs": [],
   "source": [
    "dist_matrix_protein = RMSD_dist_frames(mda_universe, \"protein\")"
   ]
  },
  {
   "cell_type": "code",
   "execution_count": null,
   "id": "7d489743-37e1-485a-89d7-568c617ea1fa",
   "metadata": {},
   "outputs": [],
   "source": [
    "# get maximal distance between all frames\n",
    "max_dist = np.amax(dist_matrix_protein)"
   ]
  },
  {
   "cell_type": "code",
   "execution_count": null,
   "id": "a8ecdd63-f4aa-42fa-babc-02b2d90566aa",
   "metadata": {},
   "outputs": [],
   "source": [
    "fig, ax = plt.subplots(1,1)\n",
    "fig.suptitle(\"RMSD between the frames\")\n",
    "\n",
    "# protein image\n",
    "img1 = ax.imshow(dist_matrix_protein, cmap=\"viridis\", vmin=0, vmax=max_dist)\n",
    "ax.title.set_text(\"protein\")\n",
    "ax.set_xlabel(\"frames\")\n",
    "ax.set_ylabel(\"frames\")\n",
    "\n",
    "\n",
    "fig.colorbar(img1, ax=ax, orientation=\"horizontal\", fraction=0.1, label=\"RMSD (Å)\")"
   ]
  },
  {
   "cell_type": "code",
   "execution_count": null,
   "id": "b3f99628-e815-4d7e-96f8-7e6edf991d91",
   "metadata": {},
   "outputs": [],
   "source": [
    "protein_residue_id1 = \"53\"\n",
    "protein_residue_id2 = \"24\"\n",
    "view = visualize_mda_universe(mda_universe, \n",
    "  sel_string = f\"resid {protein_residue_id1} or (resid {protein_residue_id2})\", \\\n",
    "    style = {'stick':{}})\n",
    "view.show()"
   ]
  },
  {
   "cell_type": "markdown",
   "id": "675cf6b7-1aa2-49cb-967e-02f0576cb954",
   "metadata": {},
   "source": [
    "Peptide flip motion as distance"
   ]
  },
  {
   "cell_type": "code",
   "execution_count": null,
   "id": "8c7714bf-04f4-4454-a454-5039118b2675",
   "metadata": {},
   "outputs": [],
   "source": [
    "protein_atom_name1 = \"N\"\n",
    "\n",
    "protein_atom_name2 = \"OE1\""
   ]
  },
  {
   "cell_type": "code",
   "execution_count": null,
   "id": "aff426ff-d259-4f08-a6ee-cfd57753de35",
   "metadata": {},
   "outputs": [],
   "source": [
    "atomgroup_protein1 = mda_universe.select_atoms(\n",
    "    f\"resid {protein_residue_id1} and name {protein_atom_name1}\")\n",
    "atomgroup_protein2 = mda_universe.select_atoms(\n",
    "    f\"resid {protein_residue_id2} and name {protein_atom_name2}\")"
   ]
  },
  {
   "cell_type": "code",
   "execution_count": null,
   "id": "b7f37ad6-b781-4060-bfc5-abc378326598",
   "metadata": {},
   "outputs": [],
   "source": [
    "distance = dist(atomgroup_protein1, atomgroup_protein2)\n",
    "print(\n",
    "    f\"The distance between residues {protein_residue_id1} and {protein_residue_id2} is {distance[2][0]:.2f} Å\"\n",
    ")"
   ]
  },
  {
   "cell_type": "code",
   "execution_count": null,
   "id": "9fb442f4-2901-4a83-be68-f39592bcd70b",
   "metadata": {},
   "outputs": [],
   "source": [
    "distances = []\n",
    "for _ in mda_universe.trajectory:\n",
    "    distance = dist(atomgroup_protein1, atomgroup_protein2)\n",
    "    distances.append(distance[2][0])"
   ]
  },
  {
   "cell_type": "code",
   "execution_count": null,
   "id": "7c5e1b84-b223-437d-b4a3-887a7d5428e6",
   "metadata": {},
   "outputs": [],
   "source": [
    "plt.figure(figsize=(10, 6))\n",
    "plt.plot(distances)\n",
    "#plt.gca().set_ylim(bottom=0)\n",
    "plt.ylabel(\"distance (Å)\")\n",
    "plt.xlabel(\"frame\")\n",
    "plt.title(f\"Atomic distance between atoms of residues {protein_residue_id1} and {protein_residue_id2}\")\n",
    "plt.show()"
   ]
  },
  {
   "cell_type": "code",
   "execution_count": null,
   "id": "05936e4b-4dfe-4436-8eba-c14de1e16eac",
   "metadata": {},
   "outputs": [],
   "source": [
    "min(distances)"
   ]
  },
  {
   "cell_type": "code",
   "execution_count": null,
   "id": "f079dcd4-67fe-48d2-bd2e-e0a5bc9c1d2b",
   "metadata": {},
   "outputs": [],
   "source": [
    "distances[29]"
   ]
  },
  {
   "cell_type": "markdown",
   "id": "686285a6-fc30-43ee-88a5-f096dce79eff",
   "metadata": {},
   "source": [
    "The 30th frame is in the peptide flip \"in\" conformation"
   ]
  },
  {
   "cell_type": "code",
   "execution_count": null,
   "id": "e7b74240-4293-49e0-bfc0-0f86ac7ee704",
   "metadata": {},
   "outputs": [],
   "source": [
    "# Select the specific frame you want to write\n",
    "frame_index = 29  # For example, the 30th frame (index starts at 0)\n",
    "mda_universe.trajectory[frame_index]  # Set the trajectory to the desired frame\n",
    "\n",
    "# Select the atoms you want to write (e.g., the entire universe or a subset)\n",
    "selected_atoms = mda_universe.select_atoms(\"all\")  # Adjust the selection as needed\n",
    "\n",
    "# Write the selected frame to a PDB file\n",
    "# with mda.Writer(\"2K39_30.pdb\", selected_atoms.n_atoms) as writer:\n",
    "#     writer.write(selected_atoms)\n",
    "\n",
    "print(\"Frame written to 2K39_30.pdb\")"
   ]
  },
  {
   "cell_type": "code",
   "execution_count": null,
   "id": "2fce5b12",
   "metadata": {},
   "outputs": [],
   "source": [
    "# python\n",
    "from MDAnalysis.analysis import align\n",
    "\n",
    "# Set the trajectory pointer to the desired reference frame\n",
    "reference_frame = 29  # For example, the 30th frame (index starts at 0)\n",
    "universe=mda_universe.trajectory[reference_frame]\n",
    "\n",
    "DATA2 = r\"D:\\AlphaFold\\Ubiquitin Cluster Data\\1_a_70 (sigma=0.30, scal=0.70)\\structures\\cluster0\\\\\"\n",
    "DATA3 = r\"D:\\AlphaFold\\Ubiquitin Cluster Data\\1_a_70 (sigma=0.30, scal=0.70)\\structures\\cluster1\\\\\"\n",
    "DATA4 = r\"D:\\AlphaFold\\Ubiquitin Cluster Data\\1_a_70 (sigma=0.30, scal=0.70)\\structures\\cluster2\\\\\"\n",
    "DATA5 = r\"D:\\AlphaFold\\Ubiquitin Cluster Data\\1_a_70 (sigma=0.30, scal=0.70)\\structures\\cluster3\\\\\"\n",
    "DATA6 = r\"D:\\AlphaFold\\Ubiquitin Cluster Data\\1_a_70 (sigma=0.30, scal=0.70)\\structures\\cluster4\\\\\"\n",
    "DATA7 = r\"D:\\AlphaFold\\Ubiquitin Cluster Data\\1_a_70 (sigma=0.30, scal=0.70)\\structures\\cluster5\\\\\"\n",
    "DATA8 = r\"D:\\AlphaFold\\Ubiquitin Cluster Data\\1_a_70 (sigma=0.30, scal=0.70)\\structures\\cluster6\\\\\"\n",
    "DATA9 = r\"D:\\AlphaFold\\Ubiquitin Cluster Data\\1_a_70 (sigma=0.30, scal=0.70)\\structures\\cluster7\\\\\"\n",
    "DATA10 = r\"D:\\AlphaFold\\Ubiquitin Cluster Data\\1_a_70 (sigma=0.30, scal=0.70)\\structures\\cluster8\\\\\"\n",
    "DATA11 = r\"D:\\AlphaFold\\Ubiquitin Cluster Data\\1_a_70 (sigma=0.30, scal=0.70)\\structures\\cluster9\\\\\"\n",
    "DATA12 = r\"D:\\AlphaFold\\Ubiquitin Cluster Data\\1_a_70 (sigma=0.30, scal=0.70)\\structures\\cluster10\\\\\"\n",
    "DATA13 = r\"D:\\AlphaFold\\Ubiquitin Cluster Data\\1_a_70 (sigma=0.30, scal=0.70)\\structures\\cluster11\\\\\"\n",
    "DATA14 = r\"D:\\AlphaFold\\Ubiquitin Cluster Data\\1_a_70 (sigma=0.30, scal=0.70)\\structures\\cluster12\\\\\"\n",
    "DATA15 = r\"D:\\AlphaFold\\Ubiquitin Cluster Data\\1_a_70 (sigma=0.30, scal=0.70)\\structures\\cluster13\\\\\"\n",
    "DATA16 = r\"D:\\AlphaFold\\Ubiquitin Cluster Data\\1_a_70 (sigma=0.30, scal=0.70)\\structures\\cluster14\\\\\"\n",
    "DATA17 = r\"D:\\AlphaFold\\Ubiquitin Cluster Data\\1_a_70 (sigma=0.30, scal=0.70)\\structures\\cluster15\\\\\"\n",
    "DATA18 = r\"D:\\AlphaFold\\Ubiquitin Cluster Data\\1_a_70 (sigma=0.30, scal=0.70)\\structures\\cluster16\\\\\"\n",
    "DATA19 = r\"D:\\AlphaFold\\Ubiquitin Cluster Data\\1_a_70 (sigma=0.30, scal=0.70)\\structures\\cluster17\\\\\"\n",
    "DATA20 = r\"D:\\AlphaFold\\Ubiquitin Cluster Data\\1_a_70 (sigma=0.30, scal=0.70)\\structures\\cluster18\\\\\"\n",
    "DATA21 = r\"D:\\AlphaFold\\Ubiquitin Cluster Data\\1_a_70 (sigma=0.30, scal=0.70)\\structures\\cluster19\\\\\"\n",
    "print(DATA21)\n",
    "sig30scale70c0v1 = mda.Universe(os.path.join(DATA2, \"11_47_042.r0_min.pdb\"))\n",
    "sig30scale70c0v2 = mda.Universe(os.path.join(DATA2, \"18_47_042.r24_min.pdb\"))\n",
    "sig30scale70c1v1 = mda.Universe(os.path.join(DATA3, \"5_47_042.r20_min.pdb\"))\n",
    "sig30scale70c1v2 = mda.Universe(os.path.join(DATA3, \"5_47_042.r64_min.pdb\"))\n",
    "sig30scale70c2v1 = mda.Universe(os.path.join(DATA4, \"1_47_042.r36_min.pdb\"))\n",
    "sig30scale70c2v2 = mda.Universe(os.path.join(DATA4, \"1_47_042.r44_min.pdb\"))\n",
    "sig30scale70c3v1 = mda.Universe(os.path.join(DATA5, \"21_47_042.r32_min.pdb\"))\n",
    "sig30scale70c3v2 = mda.Universe(os.path.join(DATA5, \"21_47_042.r49_min.pdb\"))\n",
    "sig30scale70c4v1 = mda.Universe(os.path.join(DATA6, \"3_47_042.r29_min.pdb\"))\n",
    "sig30scale70c4v2 = mda.Universe(os.path.join(DATA6, \"3_47_042.r51_min.pdb\"))\n",
    "sig30scale70c5v1 = mda.Universe(os.path.join(DATA7, \"6_47_042.r24_min.pdb\"))\n",
    "sig30scale70c5v2 = mda.Universe(os.path.join(DATA7, \"6_47_042.r54_min.pdb\"))\n",
    "sig30scale70c6v1 = mda.Universe(os.path.join(DATA8, \"5_47_042.r4_min.pdb\"))\n",
    "sig30scale70c6v2 = mda.Universe(os.path.join(DATA8, \"8_47_042.r40_min.pdb\"))\n",
    "sig30scale70c7v1 = mda.Universe(os.path.join(DATA9, \"37_47_042.r12_min.pdb\"))\n",
    "sig30scale70c7v2 = mda.Universe(os.path.join(DATA9, \"45_47_042.r24_min.pdb\"))\n",
    "sig30scale70c8v1 = mda.Universe(os.path.join(DATA10, \"8_47_042.r29_min.pdb\"))\n",
    "sig30scale70c8v2 = mda.Universe(os.path.join(DATA10, \"9_47_042.r32_min.pdb\"))\n",
    "sig30scale70c9v1 = mda.Universe(os.path.join(DATA11, \"19_47_042.r59_min.pdb\"))\n",
    "sig30scale70c9v2 = mda.Universe(os.path.join(DATA11, \"23_47_042.r21_min.pdb\"))\n",
    "sig30scale70c10v1 = mda.Universe(os.path.join(DATA12, \"2_47_042.r8_min.pdb\"))\n",
    "sig30scale70c10v2 = mda.Universe(os.path.join(DATA12, \"2_47_042.r58_min.pdb\"))\n",
    "sig30scale70c11v1 = mda.Universe(os.path.join(DATA13, \"8_47_042.r18_min.pdb\"))\n",
    "sig30scale70c11v2 = mda.Universe(os.path.join(DATA13, \"9_47_042.r26_min.pdb\"))\n",
    "sig30scale70c12v1 = mda.Universe(os.path.join(DATA14, \"11_47_042.r17_min.pdb\"))\n",
    "sig30scale70c12v2 = mda.Universe(os.path.join(DATA14, \"15_47_042.r59_min.pdb\"))\n",
    "sig30scale70c13v1 = mda.Universe(os.path.join(DATA15, \"3_47_042.r0_min.pdb\"))\n",
    "#sig30scale70c13v2 = mda.Universe(os.path.join(DATA15, \"3_47_042.r56_min.pdb\"))\n",
    "sig30scale70c14v1 = mda.Universe(os.path.join(DATA16, \"10_47_042.r28_min.pdb\"))\n",
    "sig30scale70c14v2 = mda.Universe(os.path.join(DATA16, \"10_47_042.r43_min.pdb\"))\n",
    "sig30scale70c15v1 = mda.Universe(os.path.join(DATA17, \"4_47_042.r19_min.pdb\"))\n",
    "sig30scale70c15v2 = mda.Universe(os.path.join(DATA17, \"4_47_042.r30_min.pdb\"))\n",
    "sig30scale70c16v1 = mda.Universe(os.path.join(DATA18, \"16_47_042.r6_min.pdb\"))\n",
    "sig30scale70c16v2 = mda.Universe(os.path.join(DATA18, \"25_47_042.r14_min.pdb\"))\n",
    "sig30scale70c17v1 = mda.Universe(os.path.join(DATA19, \"2_47_042.r0_min.pdb\"))\n",
    "sig30scale70c17v2 = mda.Universe(os.path.join(DATA19, \"2_47_042.r1_min.pdb\"))\n",
    "sig30scale70c18v1 = mda.Universe(os.path.join(DATA20, \"3_47_042.r44_min.pdb\"))\n",
    "sig30scale70c18v2 = mda.Universe(os.path.join(DATA20, \"3_47_042.r45_min.pdb\"))\n",
    "sig30scale70c19v1 = mda.Universe(os.path.join(DATA21, \"19_47_042.r45_min.pdb\"))\n",
    "sig30scale70c19v2 = mda.Universe(os.path.join(DATA21, \"21_47_042.r54_min.pdb\"))"
   ]
  },
  {
   "cell_type": "code",
   "execution_count": null,
   "id": "0f69238c",
   "metadata": {},
   "outputs": [],
   "source": [
    "view1 = visualize_mda_universe(sig30scale70)\n",
    "view1.show()\n"
   ]
  },
  {
   "cell_type": "code",
   "execution_count": null,
   "id": "64b73c95",
   "metadata": {},
   "outputs": [],
   "source": [
    "\n",
    "# Align the trajectory to the reference frame\n",
    "alignment = align.AlignTraj(\n",
    "    mobile=sig30scale70c0v1,  # The trajectory to align\n",
    "    reference=mda_universe,  # The reference structure\n",
    "    select=\"backbone\",  # Atom selection for alignment\n",
    "    in_memory=True  # Load trajectory into memory for modification\n",
    ")\n",
    "alignment.run()\n",
    "\n",
    "# Save the aligned trajectory if needed\n",
    "#sig30scale70c0v1.atoms.write(\"EROS30_sig30scale70.pdb\")"
   ]
  },
  {
   "cell_type": "code",
   "execution_count": null,
   "id": "9da42968",
   "metadata": {},
   "outputs": [],
   "source": [
    "import MDAnalysis as mda\n",
    "from MDAnalysis.analysis import rms\n",
    "\n",
    "# Load the two protein structures\n",
    "#reference = mda.Universe(\"reference.pdb\")  # Reference structure\n",
    "#mobile = mda.Universe(\"mobile.pdb\")        # Structure to compare\n",
    "\n",
    "# Select the atoms for RMSD calculation (e.g., backbone atoms)\n",
    "selection = \"backbone\"\n",
    "\n",
    "# Perform the RMSD calculation\n",
    "rmsd_analysisc0v1 = rms.RMSD(sig30scale70c0v1, mda_universe, select=selection)\n",
    "rmsd_analysisc0v2 = rms.RMSD(sig30scale70c0v2, mda_universe, select=selection)\n",
    "rmsd_analysisc1v1 = rms.RMSD(sig30scale70c1v1, mda_universe, select=selection)\n",
    "rmsd_analysisc1v2 = rms.RMSD(sig30scale70c1v2, mda_universe, select=selection)\n",
    "rmsd_analysisc2v1 = rms.RMSD(sig30scale70c2v1, mda_universe, select=selection)\n",
    "rmsd_analysisc2v2 = rms.RMSD(sig30scale70c2v2, mda_universe, select=selection)\n",
    "rmsd_analysisc3v1 = rms.RMSD(sig30scale70c3v1, mda_universe, select=selection)\n",
    "rmsd_analysisc3v2 = rms.RMSD(sig30scale70c3v2, mda_universe, select=selection)\n",
    "rmsd_analysisc4v1 = rms.RMSD(sig30scale70c4v1, mda_universe, select=selection)\n",
    "rmsd_analysisc4v2 = rms.RMSD(sig30scale70c4v2, mda_universe, select=selection)\n",
    "rmsd_analysisc5v1 = rms.RMSD(sig30scale70c5v1, mda_universe, select=selection)\n",
    "rmsd_analysisc5v2 = rms.RMSD(sig30scale70c5v2, mda_universe, select=selection)\n",
    "rmsd_analysisc6v1 = rms.RMSD(sig30scale70c6v1, mda_universe, select=selection)\n",
    "rmsd_analysisc6v2 = rms.RMSD(sig30scale70c6v2, mda_universe, select=selection)\n",
    "rmsd_analysisc7v1 = rms.RMSD(sig30scale70c7v1, mda_universe, select=selection)\n",
    "rmsd_analysisc7v2 = rms.RMSD(sig30scale70c7v2, mda_universe, select=selection)\n",
    "rmsd_analysisc8v1 = rms.RMSD(sig30scale70c8v1, mda_universe, select=selection)\n",
    "rmsd_analysisc8v2 = rms.RMSD(sig30scale70c8v2, mda_universe, select=selection)\n",
    "rmsd_analysisc9v1 = rms.RMSD(sig30scale70c9v1, mda_universe, select=selection)\n",
    "rmsd_analysisc9v2 = rms.RMSD(sig30scale70c9v2, mda_universe, select=selection)\n",
    "rmsd_analysisc10v1 = rms.RMSD(sig30scale70c10v1, mda_universe, select=selection)\n",
    "rmsd_analysisc10v2 = rms.RMSD(sig30scale70c10v2, mda_universe, select=selection)\n",
    "rmsd_analysisc11v1 = rms.RMSD(sig30scale70c11v1, mda_universe, select=selection)\n",
    "rmsd_analysisc11v2 = rms.RMSD(sig30scale70c11v2, mda_universe, select=selection)\n",
    "rmsd_analysisc12v1 = rms.RMSD(sig30scale70c12v1, mda_universe, select=selection)\n",
    "rmsd_analysisc12v2 = rms.RMSD(sig30scale70c12v2, mda_universe, select=selection)\n",
    "rmsd_analysisc13v1 = rms.RMSD(sig30scale70c13v1, mda_universe, select=selection)\n",
    "#rmsd_analysisc13v2 = rms.RMSD(sig30scale70c13v2, mda_universe, select=selection)\n",
    "rmsd_analysisc14v1 = rms.RMSD(sig30scale70c14v1, mda_universe, select=selection)\n",
    "rmsd_analysisc14v2 = rms.RMSD(sig30scale70c14v2, mda_universe, select=selection)\n",
    "rmsd_analysisc15v1 = rms.RMSD(sig30scale70c15v1, mda_universe, select=selection)\n",
    "rmsd_analysisc15v2 = rms.RMSD(sig30scale70c15v2, mda_universe, select=selection)\n",
    "rmsd_analysisc16v1 = rms.RMSD(sig30scale70c16v1, mda_universe, select=selection)\n",
    "rmsd_analysisc16v2 = rms.RMSD(sig30scale70c16v2, mda_universe, select=selection)\n",
    "rmsd_analysisc17v1 = rms.RMSD(sig30scale70c17v1, mda_universe, select=selection)\n",
    "rmsd_analysisc17v2 = rms.RMSD(sig30scale70c17v2, mda_universe, select=selection)\n",
    "rmsd_analysisc18v1 = rms.RMSD(sig30scale70c18v1, mda_universe, select=selection)\n",
    "rmsd_analysisc18v2 = rms.RMSD(sig30scale70c18v2, mda_universe, select=selection)\n",
    "rmsd_analysisc19v1 = rms.RMSD(sig30scale70c19v1, mda_universe, select=selection)\n",
    "rmsd_analysisc19v2 = rms.RMSD(sig30scale70c19v2, mda_universe, select=selection)\n",
    "rmsd_analysisc0v1.run()\n",
    "rmsd_analysisc0v2.run()\n",
    "rmsd_analysisc1v1.run()\n",
    "rmsd_analysisc1v2.run()\n",
    "rmsd_analysisc2v1.run()\n",
    "rmsd_analysisc2v2.run()\n",
    "rmsd_analysisc3v1.run()\n",
    "rmsd_analysisc3v2.run()\n",
    "rmsd_analysisc4v1.run()\n",
    "rmsd_analysisc4v2.run()\n",
    "rmsd_analysisc5v1.run()\n",
    "rmsd_analysisc5v2.run()\n",
    "rmsd_analysisc6v1.run()\n",
    "rmsd_analysisc6v2.run()\n",
    "rmsd_analysisc7v1.run()\n",
    "rmsd_analysisc7v2.run()\n",
    "rmsd_analysisc8v1.run()\n",
    "rmsd_analysisc8v2.run()\n",
    "rmsd_analysisc9v1.run()\n",
    "rmsd_analysisc9v2.run()\n",
    "rmsd_analysisc10v1.run()\n",
    "rmsd_analysisc10v2.run()\n",
    "rmsd_analysisc11v1.run()\n",
    "rmsd_analysisc11v2.run()\n",
    "rmsd_analysisc12v1.run()\n",
    "rmsd_analysisc12v2.run()\n",
    "rmsd_analysisc13v1.run()\n",
    "#rmsd_analysisc13v2.run()\n",
    "rmsd_analysisc14v1.run()\n",
    "rmsd_analysisc14v2.run()\n",
    "rmsd_analysisc15v1.run()\n",
    "rmsd_analysisc15v2.run()\n",
    "rmsd_analysisc16v1.run()\n",
    "rmsd_analysisc16v2.run()\n",
    "rmsd_analysisc17v1.run()\n",
    "rmsd_analysisc17v2.run()\n",
    "rmsd_analysisc18v1.run()\n",
    "rmsd_analysisc18v2.run()\n",
    "rmsd_analysisc19v1.run()\n",
    "rmsd_analysisc19v2.run()\n",
    "\n",
    "# Get the RMSD value\n",
    "rmsd_valuec0v1 = rmsd_analysisc0v1.rmsd[0, 2]  # RMSD value for the first frame\n",
    "rmsd_valuec0v2 = rmsd_analysisc0v2.rmsd[0, 2]  # RMSD value for the first frame\n",
    "rmsd_valuec1v1 = rmsd_analysisc1v1.rmsd[0, 2]  # RMSD value for the first frame\n",
    "rmsd_valuec1v2 = rmsd_analysisc1v2.rmsd[0, 2]  # RMSD value for the first frame\n",
    "rmsd_valuec2v1 = rmsd_analysisc2v1.rmsd[0, 2]  # RMSD value for the first frame\n",
    "rmsd_valuec2v2 = rmsd_analysisc2v2.rmsd[0, 2]  # RMSD value for the first frame\n",
    "rmsd_valuec3v1 = rmsd_analysisc3v1.rmsd[0, 2]  # RMSD value for the first frame\n",
    "rmsd_valuec3v2 = rmsd_analysisc3v2.rmsd[0, 2]  # RMSD value for the first frame\n",
    "rmsd_valuec4v1 = rmsd_analysisc4v1.rmsd[0, 2]  # RMSD value for the first frame\n",
    "rmsd_valuec4v2 = rmsd_analysisc4v2.rmsd[0, 2]  # RMSD value for the first frame\n",
    "rmsd_valuec5v1 = rmsd_analysisc5v1.rmsd[0, 2]  # RMSD value for the first frame\n",
    "rmsd_valuec5v2 = rmsd_analysisc5v2.rmsd[0, 2]  # RMSD value for the first frame\n",
    "rmsd_valuec6v1 = rmsd_analysisc6v1.rmsd[0, 2]  # RMSD value for the first frame\n",
    "rmsd_valuec6v2 = rmsd_analysisc6v2.rmsd[0, 2]  # RMSD value for the first frame\n",
    "rmsd_valuec7v1 = rmsd_analysisc7v1.rmsd[0, 2]  # RMSD value for the first frame\n",
    "rmsd_valuec7v2 = rmsd_analysisc7v2.rmsd[0, 2]  # RMSD value for the first frame\n",
    "rmsd_valuec8v1 = rmsd_analysisc8v1.rmsd[0, 2]  # RMSD value for the first frame\n",
    "rmsd_valuec8v2 = rmsd_analysisc8v2.rmsd[0, 2]  # RMSD value for the first frame\n",
    "rmsd_valuec9v1 = rmsd_analysisc9v1.rmsd[0, 2]  # RMSD value for the first frame\n",
    "rmsd_valuec9v2 = rmsd_analysisc9v2.rmsd[0, 2]  # RMSD value for the first frame\n",
    "rmsd_valuec10v1 = rmsd_analysisc10v1.rmsd[0, 2]  # RMSD value for the first frame\n",
    "rmsd_valuec10v2 = rmsd_analysisc10v2.rmsd[0, 2]  # RMSD value for the first frame\n",
    "rmsd_valuec11v1 = rmsd_analysisc11v1.rmsd[0, 2]  # RMSD value for the first frame\n",
    "rmsd_valuec11v2 = rmsd_analysisc11v2.rmsd[0, 2]  # RMSD value for the first frame\n",
    "rmsd_valuec12v1 = rmsd_analysisc12v1.rmsd[0, 2]  # RMSD value for the first frame\n",
    "rmsd_valuec12v2 = rmsd_analysisc12v2.rmsd[0, 2]  # RMSD value for the first frame\n",
    "rmsd_valuec13v1 = rmsd_analysisc13v1.rmsd[0, 2]  # RMSD value for the first frame\n",
    "#rmsd_valuec13v2 = rmsd_analysisc13v2.rmsd[0, 2]  # RMSD value for the first frame\n",
    "rmsd_valuec14v1 = rmsd_analysisc14v1.rmsd[0, 2]  # RMSD value for the first frame\n",
    "rmsd_valuec14v2 = rmsd_analysisc14v2.rmsd[0, 2]  # RMSD value for the first frame\n",
    "rmsd_valuec15v1 = rmsd_analysisc15v1.rmsd[0, 2]  # RMSD value for the first frame\n",
    "rmsd_valuec15v2 = rmsd_analysisc15v2.rmsd[0, 2]  # RMSD value for the first frame\n",
    "rmsd_valuec16v1 = rmsd_analysisc16v1.rmsd[0, 2]  # RMSD value for the first frame\n",
    "rmsd_valuec16v2 = rmsd_analysisc16v2.rmsd[0, 2]  # RMSD value for the first frame\n",
    "rmsd_valuec17v1 = rmsd_analysisc17v1.rmsd[0, 2]  # RMSD value for the first frame\n",
    "rmsd_valuec17v2 = rmsd_analysisc17v2.rmsd[0, 2]  # RMSD value for the first frame\n",
    "rmsd_valuec18v1 = rmsd_analysisc18v1.rmsd[0, 2]  # RMSD value for the first frame\n",
    "rmsd_valuec18v2 = rmsd_analysisc18v2.rmsd[0, 2]  # RMSD value for the first frame\n",
    "rmsd_valuec19v1 = rmsd_analysisc19v1.rmsd[0, 2]  # RMSD value for the first frame\n",
    "rmsd_valuec19v2 = rmsd_analysisc19v2.rmsd[0, 2]  # RMSD value for the first frame\n",
    "print(f\"c0v1 RMSD: {rmsd_valuec0v1:.2f} Å\")\n",
    "print(f\"c0v2 RMSD: {rmsd_valuec0v2:.2f} Å\")\n",
    "print(f\"c1v1 RMSD: {rmsd_valuec1v1:.2f} Å\")\n",
    "print(f\"c1v2 RMSD: {rmsd_valuec1v2:.2f} Å\")\n",
    "print(f\"c2v1 RMSD: {rmsd_valuec2v1:.2f} Å\")\n",
    "print(f\"c2v2 RMSD: {rmsd_valuec2v2:.2f} Å\")\n",
    "print(f\"c3v1 RMSD: {rmsd_valuec3v1:.2f} Å\")\n",
    "print(f\"c3v2 RMSD: {rmsd_valuec3v2:.2f} Å\")\n",
    "print(f\"c4v1 RMSD: {rmsd_valuec4v1:.2f} Å\")\n",
    "print(f\"c4v2 RMSD: {rmsd_valuec4v2:.2f} Å\")\n",
    "print(f\"c5v1 RMSD: {rmsd_valuec5v1:.2f} Å\")\n",
    "print(f\"c5v2 RMSD: {rmsd_valuec5v2:.2f} Å\")\n",
    "print(f\"c6v1 RMSD: {rmsd_valuec6v1:.2f} Å\")\n",
    "print(f\"c6v2 RMSD: {rmsd_valuec6v2:.2f} Å\")\n",
    "print(f\"c7v1 RMSD: {rmsd_valuec7v1:.2f} Å\")\n",
    "print(f\"c7v2 RMSD: {rmsd_valuec7v2:.2f} Å\")\n",
    "print(f\"c8v1 RMSD: {rmsd_valuec8v1:.2f} Å\")\n",
    "print(f\"c8v2 RMSD: {rmsd_valuec8v2:.2f} Å\")\n",
    "print(f\"c9v1 RMSD: {rmsd_valuec9v1:.2f} Å\")\n",
    "print(f\"c9v2 RMSD: {rmsd_valuec9v2:.2f} Å\")\n",
    "print(f\"c10v1 RMSD: {rmsd_valuec10v1:.2f} Å\")\n",
    "print(f\"c10v2 RMSD: {rmsd_valuec10v2:.2f} Å\")\n",
    "print(f\"c11v1 RMSD: {rmsd_valuec11v1:.2f} Å\")\n",
    "print(f\"c11v2 RMSD: {rmsd_valuec11v2:.2f} Å\")\n",
    "print(f\"c12v1 RMSD: {rmsd_valuec12v1:.2f} Å\")\n",
    "print(f\"c12v2 RMSD: {rmsd_valuec12v2:.2f} Å\")\n",
    "print(f\"c13v1 RMSD: {rmsd_valuec13v1:.2f} Å\")\n",
    "#print(f\"c13v2 RMSD: {rmsd_valuec13v2:.2f} Å\")\n",
    "print(f\"c14v1 RMSD: {rmsd_valuec14v1:.2f} Å\")\n",
    "print(f\"c14v2 RMSD: {rmsd_valuec14v2:.2f} Å\")\n",
    "print(f\"c15v1 RMSD: {rmsd_valuec15v1:.2f} Å\")\n",
    "print(f\"c15v2 RMSD: {rmsd_valuec15v2:.2f} Å\")\n",
    "print(f\"c16v1 RMSD: {rmsd_valuec16v1:.2f} Å\")\n",
    "print(f\"c16v2 RMSD: {rmsd_valuec16v2:.2f} Å\")\n",
    "print(f\"c17v1 RMSD: {rmsd_valuec17v1:.2f} Å\")\n",
    "print(f\"c17v2 RMSD: {rmsd_valuec17v2:.2f} Å\")\n",
    "print(f\"c18v1 RMSD: {rmsd_valuec18v1:.2f} Å\")\n",
    "print(f\"c18v2 RMSD: {rmsd_valuec18v2:.2f} Å\")\n",
    "print(f\"c19v1 RMSD: {rmsd_valuec19v1:.2f} Å\")\n",
    "print(f\"c19v2 RMSD: {rmsd_valuec19v2:.2f} Å\")"
   ]
  },
  {
   "cell_type": "code",
   "execution_count": null,
   "id": "0f1d976b",
   "metadata": {},
   "outputs": [],
   "source": [
    "# Align the trajectory to the reference frame\n",
    "# alignment = align.AlignTraj(\n",
    "#     mobile=sig30scale70c1v1,  # The trajectory to align\n",
    "#     reference=mda_universe,  # The reference structure\n",
    "#     select=\"backbone\",  # Atom selection for alignment\n",
    "#     in_memory=True  # Load trajectory into memory for modification\n",
    "# )\n",
    "# alignment.run()\n",
    "# Perform the RMSD calculation\n",
    "rmsd_analysis = rms.RMSD(sig30scale70c1v1, mda_universe, select=selection)\n",
    "rmsd_analysis.run()\n",
    "\n",
    "# Get the RMSD value\n",
    "rmsd_value = rmsd_analysis.rmsd[0, 2]  # RMSD value for the first frame\n",
    "print(f\"RMSD: {rmsd_value:.2f} Å\")"
   ]
  },
  {
   "cell_type": "code",
   "execution_count": null,
   "id": "f9773d26-36d0-48e9-a026-3248308c0409",
   "metadata": {},
   "outputs": [],
   "source": []
  },
  {
   "cell_type": "code",
   "execution_count": null,
   "id": "bd652245-e6af-43d3-b24d-0dffb6f06ea5",
   "metadata": {},
   "outputs": [],
   "source": []
  }
 ],
 "metadata": {
  "kernelspec": {
   "display_name": ".venv",
   "language": "python",
   "name": "python3"
  },
  "language_info": {
   "codemirror_mode": {
    "name": "ipython",
    "version": 3
   },
   "file_extension": ".py",
   "mimetype": "text/x-python",
   "name": "python",
   "nbconvert_exporter": "python",
   "pygments_lexer": "ipython3",
   "version": "3.11.2"
  }
 },
 "nbformat": 4,
 "nbformat_minor": 5
}
