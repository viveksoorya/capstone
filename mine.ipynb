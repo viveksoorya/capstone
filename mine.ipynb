{
 "cells": [
  {
   "cell_type": "markdown",
   "id": "c358d79b",
   "metadata": {},
   "source": [
    "I am going to do a basic replication of MDA_EROS_22Mar25 python notebook file"
   ]
  },
  {
   "cell_type": "markdown",
   "id": "bffd7758",
   "metadata": {},
   "source": [
    "why did i need a molcule object and an atom object\n",
    "\n",
    "okay, lets just think out loud here and find our particular precise holes in knowledge\n",
    "\n",
    "Aim: we want to visualize molecule dynamically given a pdb file; \n",
    "\n",
    "question 1) doesn't a pdb file have only enough information for a static image; how are we able to generate a trajectory\n",
    "\n",
    "we wrote a bunch of files; yeah, lets look at what is in structures; i expect there to be a lot of pdb files that are all then fed into the trajectory of the universe object;\n",
    "\n",
    "since the pdb files are of the same molecule, there are exactly the same number of atoms in each pdb file; \n",
    "\n",
    "\n",
    "\n",
    "\n",
    "\n",
    "\n",
    "\n",
    "\n",
    "\n",
    "\n",
    "question 2) why are we making dictionaries of atom properties; suspect a) is this necessary for labelling for py3Dmol"
   ]
  }
 ],
 "metadata": {
  "kernelspec": {
   "display_name": ".venv",
   "language": "python",
   "name": "python3"
  },
  "language_info": {
   "codemirror_mode": {
    "name": "ipython",
    "version": 3
   },
   "file_extension": ".py",
   "mimetype": "text/x-python",
   "name": "python",
   "nbconvert_exporter": "python",
   "pygments_lexer": "ipython3",
   "version": "3.11.2"
  }
 },
 "nbformat": 4,
 "nbformat_minor": 5
}
