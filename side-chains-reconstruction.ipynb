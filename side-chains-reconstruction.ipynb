{
 "cells": [
  {
   "cell_type": "code",
   "execution_count": null,
   "id": "d5f76a99",
   "metadata": {},
   "outputs": [],
   "source": [
    "from hpacker import HPacker\n",
    "hpacker = HPacker('test-bioemu-ubq/topology.pdb') # backbone-only input\n",
    "hpacker.reconstruct_sidechains(num_refinement_iterations=5)\n",
    "hpacker.write_pdb('test-bioemu-ubq/side-chains-reconstructed.pdb') # output PDB with reconstructed sidechains\n",
    "\n"
   ]
  }
 ],
 "metadata": {
  "kernelspec": {
   "display_name": "Python 3",
   "language": "python",
   "name": "python3"
  },
  "language_info": {
   "codemirror_mode": {
    "name": "ipython",
    "version": 3
   },
   "file_extension": ".py",
   "mimetype": "text/x-python",
   "name": "python",
   "nbconvert_exporter": "python",
   "pygments_lexer": "ipython3",
   "version": "3.10.16"
  }
 },
 "nbformat": 4,
 "nbformat_minor": 5
}
