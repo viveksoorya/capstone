{
 "cells": [
  {
   "cell_type": "code",
   "execution_count": null,
   "id": "ead9a6c0",
   "metadata": {},
   "outputs": [
    {
     "name": "stdout",
     "output_type": "stream",
     "text": [
      "/home/uni/miniconda3/envs/hpacker/bin/python\n"
     ]
    },
    {
     "data": {
      "text/plain": [
       "'!{sys.executable} -m pip show hpacker\\n!{sys.executable} -m pip install hpacker\\nimport hpacker\\nprint(dir(hpacker))'"
      ]
     },
     "execution_count": 3,
     "metadata": {},
     "output_type": "execute_result"
    }
   ],
   "source": [
    "import sys\n",
    "print(sys.executable)\n",
    "import hpacker\n",
    "\"\"\"!{sys.executable} -m pip show hpacker\n",
    "!{sys.executable} -m pip install hpacker\n",
    "import hpacker\n",
    "print(dir(hpacker))\"\"\""
   ]
  },
  {
   "cell_type": "code",
   "execution_count": 1,
   "id": "d5f76a99",
   "metadata": {},
   "outputs": [
    {
     "ename": "ModuleNotFoundError",
     "evalue": "No module named 'hpacker'",
     "output_type": "error",
     "traceback": [
      "\u001b[0;31m---------------------------------------------------------------------------\u001b[0m",
      "\u001b[0;31mModuleNotFoundError\u001b[0m                       Traceback (most recent call last)",
      "Cell \u001b[0;32mIn[1], line 1\u001b[0m\n\u001b[0;32m----> 1\u001b[0m \u001b[38;5;28;01mfrom\u001b[39;00m\u001b[38;5;250m \u001b[39m\u001b[38;5;21;01mhpacker\u001b[39;00m\u001b[38;5;250m \u001b[39m\u001b[38;5;28;01mimport\u001b[39;00m HPacker\n\u001b[1;32m      2\u001b[0m hpacker \u001b[38;5;241m=\u001b[39m HPacker(\u001b[38;5;124m'\u001b[39m\u001b[38;5;124mtest-bioemu-ubq/topology.pdb\u001b[39m\u001b[38;5;124m'\u001b[39m) \u001b[38;5;66;03m# backbone-only input\u001b[39;00m\n\u001b[1;32m      3\u001b[0m hpacker\u001b[38;5;241m.\u001b[39mreconstruct_sidechains(num_refinement_iterations\u001b[38;5;241m=\u001b[39m\u001b[38;5;241m5\u001b[39m)\n",
      "\u001b[0;31mModuleNotFoundError\u001b[0m: No module named 'hpacker'"
     ]
    }
   ],
   "source": [
    "from hpacker import HPacker\n",
    "hpacker = HPacker('test-bioemu-ubq/topology.pdb') # backbone-only input\n",
    "hpacker.reconstruct_sidechains(num_refinement_iterations=5)\n",
    "hpacker.write_pdb('test-bioemu-ubq/side-chains-reconstructed.pdb') # output PDB with reconstructed sidechains\n",
    "\n"
   ]
  }
 ],
 "metadata": {
  "kernelspec": {
   "display_name": "Python 3",
   "language": "python",
   "name": "python3"
  },
  "language_info": {
   "codemirror_mode": {
    "name": "ipython",
    "version": 3
   },
   "file_extension": ".py",
   "mimetype": "text/x-python",
   "name": "python",
   "nbconvert_exporter": "python",
   "pygments_lexer": "ipython3",
   "version": "3.10.16"
  }
 },
 "nbformat": 4,
 "nbformat_minor": 5
}
